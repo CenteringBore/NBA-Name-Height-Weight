{
 "cells": [
  {
   "cell_type": "code",
   "execution_count": 1,
   "id": "5a60e131",
   "metadata": {},
   "outputs": [],
   "source": [
    "import requests\n",
    "from bs4 import BeautifulSoup as bs"
   ]
  },
  {
   "cell_type": "code",
   "execution_count": 6,
   "id": "0302ccc3",
   "metadata": {},
   "outputs": [],
   "source": [
    "r=requests.get(\"https://www.basketball-reference.com/leagues/NBA_2021_per_minute.html\")\n",
    "soup=bs(r.content)"
   ]
  },
  {
   "cell_type": "code",
   "execution_count": 37,
   "id": "2576ba6c",
   "metadata": {},
   "outputs": [],
   "source": [
    "table_body=soup.tbody\n",
    "link_list=[]\n",
    "for player in table_body.find_all('tr',class_='full_table'):\n",
    "    link=\"https://www.basketball-reference.com\"+player.td.a['href']\n",
    "    link_list.append(link)"
   ]
  },
  {
   "cell_type": "code",
   "execution_count": 38,
   "id": "82d23767",
   "metadata": {},
   "outputs": [],
   "source": [
    "final_list=[]\n",
    "for link in link_list:\n",
    "    r2=requests.get(link)\n",
    "    soup2=bs(r2.content)\n",
    "    name_h=soup2.find('h1',itemprop='name')\n",
    "    name=name_h.span.text\n",
    "    weight_h=soup2.find('span',itemprop='weight')\n",
    "    weight=weight_h.text[:3]\n",
    "    height_h=soup2.find('span',itemprop='height')\n",
    "    feet=height_h.text[:1]\n",
    "    inches=height_h.text[2:3]\n",
    "    tot_inches=str(12*int(feet)+int(inches))\n",
    "    final_list.append([name,tot_inches,weight])"
   ]
  },
  {
   "cell_type": "code",
   "execution_count": 40,
   "id": "d401c5fa",
   "metadata": {},
   "outputs": [],
   "source": [
    "import csv\n",
    "with open('2020-2021_data.csv','w',encoding='utf-8') as file:\n",
    "    file.write(\"Name,Height,Weight\")\n",
    "    for line in final_list:\n",
    "        file.write('\\n')\n",
    "        file.write(line[0]+\", \")\n",
    "        file.write(str(line[1])+\", \")\n",
    "        file.write(str(line[2]))"
   ]
  }
 ],
 "metadata": {
  "kernelspec": {
   "display_name": "Python 3 (ipykernel)",
   "language": "python",
   "name": "python3"
  },
  "language_info": {
   "codemirror_mode": {
    "name": "ipython",
    "version": 3
   },
   "file_extension": ".py",
   "mimetype": "text/x-python",
   "name": "python",
   "nbconvert_exporter": "python",
   "pygments_lexer": "ipython3",
   "version": "3.10.1"
  }
 },
 "nbformat": 4,
 "nbformat_minor": 5
}
