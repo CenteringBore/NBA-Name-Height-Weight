{
 "cells": [
  {
   "cell_type": "code",
   "execution_count": null,
   "id": "064fd4b1",
   "metadata": {},
   "outputs": [],
   "source": [
    "import requests\n",
    "from bs4 import BeautifulSoup as bs"
   ]
  },
  {
   "cell_type": "code",
   "execution_count": null,
   "id": "be30fdf4",
   "metadata": {},
   "outputs": [],
   "source": [
    "r=requests.get(\"https://www.basketball-reference.com/leagues/NBA_2021_per_minute.html\")\n",
    "soup=bs(r.content)\n",
    "print(soup)"
   ]
  },
  {
   "cell_type": "code",
   "execution_count": null,
   "id": "74ebfcd6",
   "metadata": {},
   "outputs": [],
   "source": [
    "headers=soup.find_all(\"a\")\n",
    "headers"
   ]
  },
  {
   "cell_type": "code",
   "execution_count": null,
   "id": "02096a6b",
   "metadata": {},
   "outputs": [],
   "source": [
    "lamarcus=soup.find_all(\"a\", attrs={\"href\": \"/players/a/aldrila01.html\"})\n",
    "lamarcus"
   ]
  },
  {
   "cell_type": "code",
   "execution_count": null,
   "id": "c2922248",
   "metadata": {},
   "outputs": [],
   "source": [
    "import re\n",
    "players=soup.find_all(\"a\", attrs={\"href\" : re.compile(\"players\")})\n",
    "player_links=[link['href'] for link in players]\n",
    "player_links=[\"https://www.basketball-reference.com\"+link for link in player_links]\n",
    "new_plinks=[]\n",
    "for i in range(len(player_links)):\n",
    "    if(player_links[i][-1]==\"l\" and player_links[i] not in new_plinks):\n",
    "        new_plinks.append(player_links[i])\n",
    "#players=set(players)\n",
    "new_plinks=new_plinks[:-7]\n",
    "new_plinks"
   ]
  },
  {
   "cell_type": "code",
   "execution_count": null,
   "id": "1efa9e6f",
   "metadata": {},
   "outputs": [],
   "source": [
    "comp_list=[]\n",
    "for i in range(len(new_plinks)):\n",
    "    r2=requests.get(new_plinks[i])\n",
    "    soup2=bs(r2.content)\n",
    "    names=soup2.find(\"h1\", attrs={\"itemprop\" : re.compile(\"name\")})\n",
    "    actual_name=names.span.string\n",
    "    #print(actual_name)\n",
    "    height=str(soup2.find(\"span\", attrs={\"itemprop\" : re.compile(\"height\")}))\n",
    "    feet=height[24]\n",
    "    inches=height[height.index(\"-\")+1:height.index(\"</span>\")]\n",
    "    tot_inches=12*int(feet)+int(inches)\n",
    "    #print(tot_inches)\n",
    "    weight=str(soup2.find(\"span\", attrs={\"itemprop\" : re.compile(\"weight\")}))\n",
    "    actual_weight=int(weight[24:27])\n",
    "    #print(actual_weight)\n",
    "    comp_list.append([actual_name,tot_inches,actual_weight])\n",
    "print(comp_list)"
   ]
  },
  {
   "cell_type": "code",
   "execution_count": null,
   "id": "570aff22",
   "metadata": {},
   "outputs": [],
   "source": [
    "comp_list"
   ]
  },
  {
   "cell_type": "code",
   "execution_count": null,
   "id": "c1a92a14",
   "metadata": {},
   "outputs": [],
   "source": [
    "import csv\n",
    "with open('data_scrape_text.csv','w',encoding='utf-8') as file:\n",
    "    file.write(\"Name, \")\n",
    "    file.write(\"Height, \")\n",
    "    file.write(\"Weight\")\n",
    "    for line in comp_list:\n",
    "        file.write('\\n')\n",
    "        file.write(line[0]+\", \")\n",
    "        file.write(str(line[1])+\", \")\n",
    "        file.write(str(line[2]))"
   ]
  },
  {
   "cell_type": "code",
   "execution_count": null,
   "id": "af0f0513",
   "metadata": {},
   "outputs": [],
   "source": []
  }
 ],
 "metadata": {
  "kernelspec": {
   "display_name": "Python 3 (ipykernel)",
   "language": "python",
   "name": "python3"
  },
  "language_info": {
   "codemirror_mode": {
    "name": "ipython",
    "version": 3
   },
   "file_extension": ".py",
   "mimetype": "text/x-python",
   "name": "python",
   "nbconvert_exporter": "python",
   "pygments_lexer": "ipython3",
   "version": "3.10.1"
  }
 },
 "nbformat": 4,
 "nbformat_minor": 5
}
